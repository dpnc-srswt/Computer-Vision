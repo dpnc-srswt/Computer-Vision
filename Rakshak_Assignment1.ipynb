{
  "nbformat": 4,
  "nbformat_minor": 0,
  "metadata": {
    "kernelspec": {
      "display_name": "Python 3",
      "language": "python",
      "name": "python3"
    },
    "language_info": {
      "codemirror_mode": {
        "name": "ipython",
        "version": 3
      },
      "file_extension": ".py",
      "mimetype": "text/x-python",
      "name": "python",
      "nbconvert_exporter": "python",
      "pygments_lexer": "ipython3",
      "version": "3.7.6"
    },
    "colab": {
      "name": "main_file.ipynb",
      "provenance": []
    }
  },
  "cells": [
    {
      "cell_type": "markdown",
      "metadata": {
        "id": "PJsWZSZzkb_o",
        "colab_type": "text"
      },
      "source": [
        "# Problem 1"
      ]
    },
    {
      "cell_type": "code",
      "metadata": {
        "id": "qRqQEozkkV1s",
        "colab_type": "code",
        "colab": {}
      },
      "source": [
        "import time \n",
        "import math"
      ],
      "execution_count": null,
      "outputs": []
    },
    {
      "cell_type": "code",
      "metadata": {
        "id": "X5XLz0YckV1x",
        "colab_type": "code",
        "colab": {}
      },
      "source": [
        "def prime_no(x):\n",
        "    max_divisor = math.floor(math.sqrt(x)) \n",
        "    for i in range(2,max_divisor+1):\n",
        "        if (x % i) == 0:\n",
        "            return False\n",
        "    return True"
      ],
      "execution_count": null,
      "outputs": []
    },
    {
      "cell_type": "code",
      "metadata": {
        "id": "Rf_fYXBlkV11",
        "colab_type": "code",
        "colab": {},
        "outputId": "fb39c4fb-8f16-455a-a620-18fe4dc530a5"
      },
      "source": [
        "start=time.time()\n",
        "def nth_prime_no(n):\n",
        "    prime_count = 2\n",
        "    number = 3\n",
        "    if n == 1:\n",
        "        return 2\n",
        "    while prime_count < n:\n",
        "        number += 2\n",
        "        if prime_no(number):\n",
        "            prime_count += 1\n",
        "    return number\n",
        "print(nth_prime_no(10002))\n",
        "end1=time.time()\n",
        "print(nth_prime_no(1000002))\n",
        "end2=time.time()"
      ],
      "execution_count": null,
      "outputs": [
        {
          "output_type": "stream",
          "text": [
            "104759\n",
            "15485917\n"
          ],
          "name": "stdout"
        }
      ]
    },
    {
      "cell_type": "code",
      "metadata": {
        "id": "uqIO_0qDkV15",
        "colab_type": "code",
        "colab": {},
        "outputId": "e302bd2b-c219-431a-cd6d-dc9ad9e22dc6"
      },
      "source": [
        "time1=end1-start\n",
        "print(time1)\n",
        "time2=end2 -start\n",
        "print(time2)"
      ],
      "execution_count": null,
      "outputs": [
        {
          "output_type": "stream",
          "text": [
            "0.1406230926513672\n",
            "166.32694125175476\n"
          ],
          "name": "stdout"
        }
      ]
    },
    {
      "cell_type": "markdown",
      "metadata": {
        "id": "NcjtR727kjyy",
        "colab_type": "text"
      },
      "source": [
        "# Problem 2"
      ]
    },
    {
      "cell_type": "code",
      "metadata": {
        "id": "1q-plYLCkV19",
        "colab_type": "code",
        "colab": {
          "base_uri": "https://localhost:8080/",
          "height": 121
        },
        "outputId": "c1059b8f-70f8-4bf6-ca0d-50f31aed521d"
      },
      "source": [
        "from google.colab import drive \n",
        "drive.mount('/content/gdrive')"
      ],
      "execution_count": 1,
      "outputs": [
        {
          "output_type": "stream",
          "text": [
            "Go to this URL in a browser: https://accounts.google.com/o/oauth2/auth?client_id=947318989803-6bn6qk8qdgf4n4g3pfee6491hc0brc4i.apps.googleusercontent.com&redirect_uri=urn%3aietf%3awg%3aoauth%3a2.0%3aoob&response_type=code&scope=email%20https%3a%2f%2fwww.googleapis.com%2fauth%2fdocs.test%20https%3a%2f%2fwww.googleapis.com%2fauth%2fdrive%20https%3a%2f%2fwww.googleapis.com%2fauth%2fdrive.photos.readonly%20https%3a%2f%2fwww.googleapis.com%2fauth%2fpeopleapi.readonly\n",
            "\n",
            "Enter your authorization code:\n",
            "··········\n",
            "Mounted at /content/gdrive\n"
          ],
          "name": "stdout"
        }
      ]
    },
    {
      "cell_type": "code",
      "metadata": {
        "id": "vzoRzr4Vkp2A",
        "colab_type": "code",
        "colab": {
          "base_uri": "https://localhost:8080/",
          "height": 34
        },
        "outputId": "2ff7d1a7-533d-4ae3-fd7b-add2b5ca3a28"
      },
      "source": [
        "%cd /content/gdrive/My\\ Drive/"
      ],
      "execution_count": 2,
      "outputs": [
        {
          "output_type": "stream",
          "text": [
            "/content/gdrive/My Drive\n"
          ],
          "name": "stdout"
        }
      ]
    },
    {
      "cell_type": "code",
      "metadata": {
        "id": "pXvNd0-fkseS",
        "colab_type": "code",
        "colab": {}
      },
      "source": [
        "##import all the necesary library\n",
        "%matplotlib inline\n",
        "from matplotlib import pyplot as plt\n",
        "import cv2\n",
        "import imutils\n",
        "from google.colab.patches import cv2_imshow"
      ],
      "execution_count": 3,
      "outputs": []
    },
    {
      "cell_type": "code",
      "metadata": {
        "id": "tavCpHDlku2H",
        "colab_type": "code",
        "colab": {}
      },
      "source": [
        "## Read the image\n",
        "image = cv2.imread(\"TEST_im.jpg\")"
      ],
      "execution_count": 4,
      "outputs": []
    },
    {
      "cell_type": "code",
      "metadata": {
        "id": "w5KRyEDzk5Nr",
        "colab_type": "code",
        "colab": {
          "base_uri": "https://localhost:8080/",
          "height": 167
        },
        "outputId": "e1e0b5e9-6b97-4d6a-bb2a-5fc5c9681f6c"
      },
      "source": [
        "##Find the Bounding box \n",
        "##Find the center of the bounding box\n",
        "gray = cv2.cvtColor(image, cv2.COLOR_BGR2GRAY)\n",
        "blurred = cv2.GaussianBlur(gray, (5, 5), 0)\n",
        "thresh = cv2.threshold(blurred, 60, 255, cv2.THRESH_BINARY)[1]\n",
        "cnts = cv2.findContours(thresh.copy(), cv2.RETR_EXTERNAL,cv2.CHAIN_APPROX_SIMPLE)\n",
        "cnts = imutils.grab_contours(cnts)\n",
        "\n",
        "for c in cnts:\n",
        "\t# compute the center of the contour\n",
        "\tM = cv2.moments(c)\n",
        "\tcX = int(M[\"m10\"] / M[\"m00\"])\n",
        "\tcY = int(M[\"m01\"] / M[\"m00\"])\n",
        "\n",
        "\t# draw the contour and center of the shape on the image\n",
        "\tcv2.drawContours(image, [c], -1, (0, 255, 0), 2)\n",
        "\tcv2.circle(image, (cX, cY), 7, (255, 255, 255), -1)\n",
        "    # show the image\n",
        "cv2_imshow(image)\n",
        "print(cX)\n",
        "print(cY)\n",
        "cv2.waitKey(0)"
      ],
      "execution_count": 5,
      "outputs": [
        {
          "output_type": "display_data",
          "data": {
            "image/png": "[encoded data removed]",
            "text/plain": [
              "<PIL.Image.Image image mode=RGB size=100x100 at 0x7F3E5F3356D8>"
            ]
          },
          "metadata": {
            "tags": []
          }
        },
        {
          "output_type": "stream",
          "text": [
            "50\n",
            "25\n"
          ],
          "name": "stdout"
        },
        {
          "output_type": "execute_result",
          "data": {
            "text/plain": [
              "-1"
            ]
          },
          "metadata": {
            "tags": []
          },
          "execution_count": 5
        }
      ]
    }
  ]
}